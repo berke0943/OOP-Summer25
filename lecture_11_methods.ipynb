{
 "cells": [
  {
   "cell_type": "markdown",
   "id": "1ad5141d",
   "metadata": {},
   "source": [
    "## What are functions? \n",
    "A function is a block of code which only runs when it is called.\n",
    "\n",
    "You can pass data, known as parameters (arguments), into a function.\n",
    "\n",
    "A function can return data as a result."
   ]
  },
  {
   "cell_type": "markdown",
   "id": "39da29e5",
   "metadata": {},
   "source": []
  },
  {
   "cell_type": "markdown",
   "id": "fd909cdc",
   "metadata": {},
   "source": [
    "### Function without arguments "
   ]
  },
  {
   "cell_type": "code",
   "execution_count": 4,
   "id": "fa1cd574",
   "metadata": {},
   "outputs": [],
   "source": [
    "def greet_user():\n",
    "    print('Welcome')"
   ]
  },
  {
   "cell_type": "markdown",
   "id": "14f4fff1",
   "metadata": {},
   "source": [
    "### How to call the function ?"
   ]
  },
  {
   "cell_type": "code",
   "execution_count": 5,
   "id": "f86ffd05",
   "metadata": {},
   "outputs": [
    {
     "name": "stdout",
     "output_type": "stream",
     "text": [
      "Welcome\n"
     ]
    }
   ],
   "source": [
    "greet_user()"
   ]
  },
  {
   "cell_type": "markdown",
   "id": "71b7f936",
   "metadata": {},
   "source": [
    "### Function with arguments"
   ]
  },
  {
   "cell_type": "markdown",
   "id": "e1c900cf",
   "metadata": {},
   "source": [
    "###"
   ]
  },
  {
   "cell_type": "code",
   "execution_count": 8,
   "id": "6f8c6383",
   "metadata": {},
   "outputs": [],
   "source": [
    "def greet_user(name):\n",
    "    print('Welcome ,',name)"
   ]
  },
  {
   "cell_type": "code",
   "execution_count": 9,
   "id": "aa518715",
   "metadata": {},
   "outputs": [
    {
     "name": "stdout",
     "output_type": "stream",
     "text": [
      "Welcome , Berke\n"
     ]
    }
   ],
   "source": [
    "greet_user('Berke')"
   ]
  },
  {
   "cell_type": "markdown",
   "id": "c043a75e",
   "metadata": {},
   "source": [
    "### What are methods ?"
   ]
  },
  {
   "cell_type": "markdown",
   "id": "3368b52e",
   "metadata": {},
   "source": [
    "Methods are function thhat belong to the object. "
   ]
  },
  {
   "cell_type": "markdown",
   "id": "715a3ad1",
   "metadata": {},
   "source": [
    "### Methods without arguments \n",
    "(it should have 'self' only)"
   ]
  },
  {
   "cell_type": "markdown",
   "id": "c178efb3",
   "metadata": {},
   "source": []
  },
  {
   "cell_type": "code",
   "execution_count": 10,
   "id": "5eecb888",
   "metadata": {},
   "outputs": [],
   "source": [
    "class MyGreeter:\n",
    "    def greet_user(self):\n",
    "        print('Welcome!')"
   ]
  },
  {
   "cell_type": "markdown",
   "id": "8e9b0774",
   "metadata": {},
   "source": [
    "### How to call it?\n",
    "We need to create an object we need to use method name on that object"
   ]
  },
  {
   "cell_type": "code",
   "execution_count": 11,
   "id": "ca9bf942",
   "metadata": {},
   "outputs": [
    {
     "name": "stdout",
     "output_type": "stream",
     "text": [
      "Welcome!\n"
     ]
    }
   ],
   "source": [
    "greeter1 = MyGreeter()\n",
    "greeter1.greet_user()\n"
   ]
  },
  {
   "cell_type": "markdown",
   "id": "d8998214",
   "metadata": {},
   "source": [
    "### Method with arguments ?\n",
    "it should self + arguments"
   ]
  },
  {
   "cell_type": "code",
   "execution_count": 13,
   "id": "6ea1dc7c",
   "metadata": {},
   "outputs": [],
   "source": [
    "class MyGreeter:\n",
    "    def greet_user(self, name):\n",
    "        print('Welcome,',name)"
   ]
  },
  {
   "cell_type": "markdown",
   "id": "756698ed",
   "metadata": {},
   "source": []
  },
  {
   "cell_type": "code",
   "execution_count": 14,
   "id": "4b906859",
   "metadata": {},
   "outputs": [
    {
     "name": "stdout",
     "output_type": "stream",
     "text": [
      "Welcome, Berke\n"
     ]
    }
   ],
   "source": [
    "greeter2 = MyGreeter()\n",
    "greeter2.greet_user('Berke')"
   ]
  },
  {
   "cell_type": "code",
   "execution_count": null,
   "id": "cdeaf4b3",
   "metadata": {},
   "outputs": [],
   "source": []
  }
 ],
 "metadata": {
  "kernelspec": {
   "display_name": ".venv",
   "language": "python",
   "name": "python3"
  },
  "language_info": {
   "codemirror_mode": {
    "name": "ipython",
    "version": 3
   },
   "file_extension": ".py",
   "mimetype": "text/x-python",
   "name": "python",
   "nbconvert_exporter": "python",
   "pygments_lexer": "ipython3",
   "version": "3.12.1"
  }
 },
 "nbformat": 4,
 "nbformat_minor": 5
}
