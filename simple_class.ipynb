{
 "cells": [
  {
   "cell_type": "markdown",
   "id": "33945caa",
   "metadata": {},
   "source": [
    "## Simplest Class Ever"
   ]
  },
  {
   "cell_type": "code",
   "execution_count": 20,
   "id": "eb9543fa",
   "metadata": {},
   "outputs": [],
   "source": [
    "class Car:\n",
    "    pass"
   ]
  },
  {
   "cell_type": "markdown",
   "id": "791494b7",
   "metadata": {},
   "source": [
    "### What can we do with such class?"
   ]
  },
  {
   "cell_type": "markdown",
   "id": "a69bba5a",
   "metadata": {},
   "source": [
    "1. We can create an object even if it is empty"
   ]
  },
  {
   "cell_type": "code",
   "execution_count": 21,
   "id": "c3518dff",
   "metadata": {},
   "outputs": [
    {
     "data": {
      "text/plain": [
       "<__main__.Car at 0x760b9867ab70>"
      ]
     },
     "execution_count": 21,
     "metadata": {},
     "output_type": "execute_result"
    }
   ],
   "source": [
    "Car()"
   ]
  },
  {
   "cell_type": "markdown",
   "id": "65f803c9",
   "metadata": {},
   "source": [
    "2. We can create and assign the object to a variable"
   ]
  },
  {
   "cell_type": "code",
   "execution_count": 22,
   "id": "519479ac",
   "metadata": {},
   "outputs": [],
   "source": [
    "car_1= Car()"
   ]
  },
  {
   "cell_type": "markdown",
   "id": "2b8afa93",
   "metadata": {},
   "source": [
    "3. We can print the object with its address in memory"
   ]
  },
  {
   "cell_type": "code",
   "execution_count": 23,
   "id": "379cacc6",
   "metadata": {},
   "outputs": [
    {
     "name": "stdout",
     "output_type": "stream",
     "text": [
      "<__main__.Car object at 0x760b98523c80>\n"
     ]
    }
   ],
   "source": [
    "print(car_1)"
   ]
  },
  {
   "cell_type": "markdown",
   "id": "c98ecbd6",
   "metadata": {},
   "source": [
    "4. We can create multiple objects of that class"
   ]
  },
  {
   "cell_type": "code",
   "execution_count": 24,
   "id": "cabf413a",
   "metadata": {},
   "outputs": [],
   "source": [
    "car_2 = Car()\n",
    "car_3 = Car()\n",
    "car_4 = Car()"
   ]
  },
  {
   "cell_type": "markdown",
   "id": "ed4adf19",
   "metadata": {},
   "source": [
    "5. We can check the addresses of those objects in memory"
   ]
  },
  {
   "cell_type": "code",
   "execution_count": 25,
   "id": "6d148dcc",
   "metadata": {},
   "outputs": [
    {
     "name": "stdout",
     "output_type": "stream",
     "text": [
      "<__main__.Car object at 0x760b98523c80>\n",
      "<__main__.Car object at 0x760b98520f50>\n",
      "<__main__.Car object at 0x760b98666d80>\n",
      "<__main__.Car object at 0x760b985212b0>\n"
     ]
    }
   ],
   "source": [
    "print(car_1)\n",
    "print(car_2)\n",
    "print(car_3)\n",
    "print(car_4)"
   ]
  },
  {
   "cell_type": "markdown",
   "id": "6b909993",
   "metadata": {},
   "source": [
    "6. We can check the type of the object"
   ]
  },
  {
   "cell_type": "code",
   "execution_count": 26,
   "id": "a3cdc092",
   "metadata": {},
   "outputs": [
    {
     "name": "stdout",
     "output_type": "stream",
     "text": [
      "<class '__main__.Car'>\n",
      "<class '__main__.Car'>\n",
      "<class '__main__.Car'>\n",
      "<class '__main__.Car'>\n"
     ]
    }
   ],
   "source": [
    "print(type(car_1))\n",
    "print(type(car_2))\n",
    "print(type(car_3))\n",
    "print(type(car_4))"
   ]
  }
 ],
 "metadata": {
  "kernelspec": {
   "display_name": ".venv",
   "language": "python",
   "name": "python3"
  },
  "language_info": {
   "codemirror_mode": {
    "name": "ipython",
    "version": 3
   },
   "file_extension": ".py",
   "mimetype": "text/x-python",
   "name": "python",
   "nbconvert_exporter": "python",
   "pygments_lexer": "ipython3",
   "version": "3.12.1"
  }
 },
 "nbformat": 4,
 "nbformat_minor": 5
}
