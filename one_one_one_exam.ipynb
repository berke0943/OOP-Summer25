{
 "cells": [
  {
   "cell_type": "markdown",
   "id": "6d412690",
   "metadata": {},
   "source": [
    "# 1 on 1"
   ]
  },
  {
   "cell_type": "markdown",
   "id": "d88d10ae",
   "metadata": {},
   "source": [
    "### 1. Question print \"Hello World\" on the screen"
   ]
  },
  {
   "cell_type": "code",
   "execution_count": 3,
   "id": "88ac5e8a",
   "metadata": {},
   "outputs": [
    {
     "name": "stdout",
     "output_type": "stream",
     "text": [
      "Hello World\n"
     ]
    }
   ],
   "source": [
    "print(\"Hello World\")"
   ]
  },
  {
   "cell_type": "markdown",
   "id": "427979bf",
   "metadata": {},
   "source": [
    "### 2. Question set a variable with string"
   ]
  },
  {
   "cell_type": "code",
   "execution_count": 4,
   "id": "33814653",
   "metadata": {},
   "outputs": [
    {
     "name": "stdout",
     "output_type": "stream",
     "text": [
      "Berke\n"
     ]
    }
   ],
   "source": [
    "name=\"Berke\"\n",
    "print(name)"
   ]
  },
  {
   "cell_type": "markdown",
   "id": "86557480",
   "metadata": {},
   "source": [
    "### 3.Question print a type of that variable"
   ]
  },
  {
   "cell_type": "code",
   "execution_count": 5,
   "id": "273bd431",
   "metadata": {},
   "outputs": [
    {
     "name": "stdout",
     "output_type": "stream",
     "text": [
      "<class 'str'>\n"
     ]
    }
   ],
   "source": [
    "print(type(name))"
   ]
  },
  {
   "cell_type": "markdown",
   "id": "79165a0a",
   "metadata": {},
   "source": [
    "### 4. Question create a list of countries"
   ]
  },
  {
   "cell_type": "code",
   "execution_count": null,
   "id": "11fe561e",
   "metadata": {},
   "outputs": [
    {
     "name": "stdout",
     "output_type": "stream",
     "text": [
      "['Turkiye', 'USA', 'Poland', 'UK']\n",
      "<class 'list'>\n"
     ]
    }
   ],
   "source": [
    "countries= [\"Turkiye\",\"USA\",\"Poland\",\"UK\"] \n",
    "print(countries)\n",
    "print(type(countries))"
   ]
  },
  {
   "cell_type": "markdown",
   "id": "65d2f1f2",
   "metadata": {},
   "source": [
    "### 5. Question use a for loop and display \"this is my country\" for your country"
   ]
  },
  {
   "cell_type": "code",
   "execution_count": 11,
   "id": "0a29eebe",
   "metadata": {},
   "outputs": [
    {
     "name": "stdout",
     "output_type": "stream",
     "text": [
      "Turkiye\n",
      "USA\n",
      "Poland\n",
      "UK\n"
     ]
    }
   ],
   "source": [
    "for counrty in countries:\n",
    "    print(counrty)"
   ]
  },
  {
   "cell_type": "markdown",
   "id": "e640b719",
   "metadata": {},
   "source": [
    "### 6. Question and 7. Question create a class for an Animal and Create two objects of that class"
   ]
  },
  {
   "cell_type": "code",
   "execution_count": null,
   "id": "33046ecc",
   "metadata": {},
   "outputs": [
    {
     "name": "stdout",
     "output_type": "stream",
     "text": [
      "Cat mammal ['sleeping', 'meowing', 'eating']\n",
      "Dog mammal ['running', 'bitting']\n",
      "Parrot birds ['flying', 'mimicking', 'talking']\n"
     ]
    }
   ],
   "source": [
    "class Animal:\n",
    "    def __init__(self, name , group, skills ):\n",
    "        self.name=name\n",
    "        self.group=group\n",
    "        self.skills=skills\n",
    "    \n",
    "\n",
    "    \n",
    "\n",
    "\n",
    "animal1=Animal(\"Cat\",\"mammal\",[\"sleeping\",\"meowing\",\"eating\"])\n",
    "animal2=Animal(\"Dog\",\"mammal\",[\"running\",\"bitting\"])\n",
    "animal3=Animal(\"Parrot\",\"birds\",[\"flying\", \"mimicking\",\"talking\"])\n",
    "\n",
    "\n",
    "\n",
    "\n",
    "print(animal1.name , animal1.group , animal1.skills)\n",
    "print(animal2.name , animal2.group , animal2.skills)\n",
    "print(animal3.name , animal3.group , animal3.skills)\n",
    "\n",
    "        "
   ]
  }
 ],
 "metadata": {
  "kernelspec": {
   "display_name": "Python 3",
   "language": "python",
   "name": "python3"
  },
  "language_info": {
   "codemirror_mode": {
    "name": "ipython",
    "version": 3
   },
   "file_extension": ".py",
   "mimetype": "text/x-python",
   "name": "python",
   "nbconvert_exporter": "python",
   "pygments_lexer": "ipython3",
   "version": "3.12.1"
  }
 },
 "nbformat": 4,
 "nbformat_minor": 5
}
