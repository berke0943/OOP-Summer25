{
 "cells": [
  {
   "cell_type": "code",
   "execution_count": 18,
   "id": "7ab72e9e",
   "metadata": {},
   "outputs": [
    {
     "name": "stdout",
     "output_type": "stream",
     "text": [
      "Hello, my name is Berke and my index number is 35275!\n"
     ]
    }
   ],
   "source": [
    "class Student:\n",
    "    def __init__(self, name, index_number):\n",
    "        self.name = name\n",
    "        self.index_number = index_number\n",
    "\n",
    "    def greeting(self):\n",
    "        print(f\"Hello, my name is {self.name} and my index number is {self.index_number}!\")\n",
    "\n",
    "\n",
    "student1 = Student(\"Berke\",35275)\n",
    "student1.greeting()\n"
   ]
  }
 ],
 "metadata": {
  "kernelspec": {
   "display_name": ".venv",
   "language": "python",
   "name": "python3"
  },
  "language_info": {
   "codemirror_mode": {
    "name": "ipython",
    "version": 3
   },
   "file_extension": ".py",
   "mimetype": "text/x-python",
   "name": "python",
   "nbconvert_exporter": "python",
   "pygments_lexer": "ipython3",
   "version": "3.12.1"
  }
 },
 "nbformat": 4,
 "nbformat_minor": 5
}
