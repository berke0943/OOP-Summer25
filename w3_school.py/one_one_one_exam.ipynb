{
 "cells": [
  {
   "cell_type": "markdown",
   "id": "6d412690",
   "metadata": {},
   "source": [
    "# 1 on 1"
   ]
  }
 ],
 "metadata": {
  "language_info": {
   "name": "python"
  }
 },
 "nbformat": 4,
 "nbformat_minor": 5
}
